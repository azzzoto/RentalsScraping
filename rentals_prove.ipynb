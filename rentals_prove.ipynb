{
 "cells": [
  {
   "cell_type": "code",
   "execution_count": 20,
   "metadata": {},
   "outputs": [],
   "source": [
    "import numpy as np\n",
    "import matplotlib.pyplot as plt\n",
    "from tqdm import tqdm\n",
    "import pandas as pd\n",
    "from IPython.display import display\n",
    "\n",
    "from subito_scraper import df_maker_subito, next_page_subito\n",
    "from immobiliare_scraper import df_maker_immobiliare, next_page_immobiliare\n",
    "from idealista_scraper import next_page_idealista\n",
    "\n",
    "import bs4\n",
    "import requests\n",
    "from tqdm import tqdm\n",
    "import pandas as pd"
   ]
  },
  {
   "cell_type": "code",
   "execution_count": 6,
   "metadata": {},
   "outputs": [
    {
     "data": {
      "text/plain": [
       "<Response [403]>"
      ]
     },
     "execution_count": 6,
     "metadata": {},
     "output_type": "execute_result"
    }
   ],
   "source": [
    "requests.get(\"https://www.idealista.com/venta-viviendas/madrid/retiro/\")"
   ]
  },
  {
   "attachments": {},
   "cell_type": "markdown",
   "metadata": {},
   "source": [
    "# City Settings - Affitti"
   ]
  },
  {
   "cell_type": "code",
   "execution_count": 10,
   "metadata": {},
   "outputs": [],
   "source": [
    "regione = \"veneto\"\n",
    "provincia = \"padova\"\n",
    "città = \"montegrotto-terme\""
   ]
  },
  {
   "cell_type": "code",
   "execution_count": 11,
   "metadata": {},
   "outputs": [],
   "source": [
    "url_immobiliare = f\"https://www.immobiliare.it/affitto-case/{città}/\"\n",
    "\n",
    "url_subito = f\"https://www.subito.it/annunci-{regione}/affitto/appartamenti/{provincia}/{città}/\"\n",
    "\n",
    "url_idealista = f\"https://www.idealista.it/affitto-case/{provincia}-{città}/\""
   ]
  },
  {
   "attachments": {},
   "cell_type": "markdown",
   "metadata": {},
   "source": [
    "# Immobiliare.it"
   ]
  },
  {
   "cell_type": "code",
   "execution_count": 12,
   "metadata": {},
   "outputs": [
    {
     "name": "stdout",
     "output_type": "stream",
     "text": [
      "Scraping: run 2 from Immobiliare.it ...\n",
      "\n",
      "-->DEBUG ERROR<--\n",
      "404 Client Error: Not Found for url: https://www.immobiliare.it/affitto-case/montegrotto-terme/?pag=2\n",
      "\n",
      "\n",
      "------------------------------------------------------------\n",
      "Avaiable pages ended: stopping...\n",
      "------------------------------------------------------------\n",
      "\n",
      "\n",
      "Numero di appartamenti trovati su Immobiliare.it: 4\n"
     ]
    }
   ],
   "source": [
    "df_to_concat = [df_maker_immobiliare(url_immobiliare)]\n",
    "for i in range(2,100):\n",
    "    print(f\"Scraping: run {i} from Immobiliare.it ...\")\n",
    "    df_temp = df_maker_immobiliare(next_page_immobiliare(i, url_immobiliare))\n",
    "    df_to_concat.append(df_temp)\n",
    "    if df_temp is None:\n",
    "        print(\"\\n\")\n",
    "        print(\"-\"*60)\n",
    "        print(\"Avaiable pages ended: stopping...\")\n",
    "        print(\"-\"*60)\n",
    "        break\n",
    "immobiliare_results = pd.concat(df_to_concat)\n",
    "n_immobiliare = immobiliare_results.shape[0]\n",
    "\n",
    "print(\"\\n\")\n",
    "print(f\"Numero di appartamenti trovati su Immobiliare.it: {n_immobiliare}\")"
   ]
  },
  {
   "attachments": {},
   "cell_type": "markdown",
   "metadata": {},
   "source": [
    "# Idealista"
   ]
  },
  {
   "cell_type": "code",
   "execution_count": 13,
   "metadata": {},
   "outputs": [],
   "source": [
    "BASE_HEADERS = {\n",
    "    \"user-agent\": \"Mozilla/5.0 (Windows NT 10.0; Win64; x64) AppleWebKit/537.36 (KHTML, like Gecko) Chrome/96.0.4664.110 Safari/537.36\",\n",
    "    \"accept\": \"text/html,application/xhtml+xml,application/xml;q=0.9,image/webp,image/apng,*/*;q=0.8\",\n",
    "    \"accept-language\": \"en-US;en;q=0.9\",\n",
    "    \"accept-encoding\": \"gzip, deflate, br\",\n",
    "}"
   ]
  },
  {
   "attachments": {},
   "cell_type": "markdown",
   "metadata": {},
   "source": [
    "# Subito.it"
   ]
  },
  {
   "cell_type": "code",
   "execution_count": 14,
   "metadata": {},
   "outputs": [
    {
     "name": "stdout",
     "output_type": "stream",
     "text": [
      "Scraping: run 1 from Subito.it ...\n",
      "Scraping: run 2 from Subito.it ...\n",
      "\n",
      "\n",
      "------------------------------------------------------------\n",
      "Avaiable pages ended: stopping...\n",
      "------------------------------------------------------------\n",
      "\n",
      "\n",
      "Numero di appartamenti trovati su Subito.it: 2\n"
     ]
    }
   ],
   "source": [
    "print(\"Scraping: run 1 from Subito.it ...\")\n",
    "df_to_concat = [df_maker_subito(url_subito)]\n",
    "for i in range(2,100):\n",
    "    print(f\"Scraping: run {i} from Subito.it ...\")\n",
    "    df_temp = df_maker_subito(next_page_subito(i, url_subito))\n",
    "    df_to_concat.append(df_temp)\n",
    "    if df_temp.shape[0] == 0:\n",
    "        break\n",
    "print(\"\\n\")\n",
    "print(\"-\"*60)\n",
    "print(\"Avaiable pages ended: stopping...\")\n",
    "print(\"-\"*60)\n",
    "subito_results = pd.concat(df_to_concat)\n",
    "n_subito = subito_results.shape[0]\n",
    "\n",
    "print(\"\\n\")\n",
    "print(f\"Numero di appartamenti trovati su Subito.it: {n_subito}\")"
   ]
  },
  {
   "attachments": {},
   "cell_type": "markdown",
   "metadata": {},
   "source": [
    "# Results"
   ]
  },
  {
   "cell_type": "code",
   "execution_count": 15,
   "metadata": {},
   "outputs": [
    {
     "name": "stdout",
     "output_type": "stream",
     "text": [
      "------------------------------------------------------------\n",
      "Totale appartamenti trovati: 6\n",
      "------------------------------------------------------------\n",
      "\n",
      "\n",
      "Creo Output...\n"
     ]
    }
   ],
   "source": [
    "tot_apt = n_subito + n_immobiliare\n",
    "\n",
    "print(\"-\"*60)\n",
    "print(f\"Totale appartamenti trovati: {tot_apt}\")\n",
    "print(\"-\"*60)\n",
    "\n",
    "print(\"\\n\")\n",
    "print(\"Creo Output...\")\n",
    "final_results = pd.concat([subito_results, immobiliare_results])\n"
   ]
  },
  {
   "cell_type": "code",
   "execution_count": 23,
   "metadata": {},
   "outputs": [],
   "source": [
    "final_results.to_excel(\"results_florence.xlsx\")"
   ]
  },
  {
   "attachments": {},
   "cell_type": "markdown",
   "metadata": {},
   "source": [
    "## Data sperimentation"
   ]
  },
  {
   "cell_type": "code",
   "execution_count": 17,
   "metadata": {},
   "outputs": [],
   "source": [
    "#old_data=pd.read_excel(\"1602.xlsx\")\n",
    "#lista = list(set(subito_results.Link) - set(old_data.Link))\n",
    "#import webbrowser\n",
    "#for item in lista:\n",
    "#    webbrowser.open_new(item.split(\"//\")[1])"
   ]
  }
 ],
 "metadata": {
  "kernelspec": {
   "display_name": "RentalsEnv",
   "language": "python",
   "name": "python3"
  },
  "language_info": {
   "codemirror_mode": {
    "name": "ipython",
    "version": 3
   },
   "file_extension": ".py",
   "mimetype": "text/x-python",
   "name": "python",
   "nbconvert_exporter": "python",
   "pygments_lexer": "ipython3",
   "version": "3.10.10"
  },
  "orig_nbformat": 4,
  "vscode": {
   "interpreter": {
    "hash": "d0f937cc88e2b281afb6583a940b77a2f8d13e323a72f235cff9a3afab786a6d"
   }
  }
 },
 "nbformat": 4,
 "nbformat_minor": 2
}
