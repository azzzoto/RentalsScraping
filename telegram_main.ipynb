{
 "cells": [
  {
   "cell_type": "code",
   "execution_count": 21,
   "metadata": {},
   "outputs": [],
   "source": [
    "import numpy as np\n",
    "from tqdm import tqdm\n",
    "from datetime import datetime\n",
    "import pandas as pd\n",
    "import requests\n",
    "\n",
    "from telegram_utils import create_message\n",
    "from subito_scraper import df_maker_subito, next_page_subito\n",
    "from immobiliare_scraper import df_maker_immobiliare, next_page_immobiliare"
   ]
  },
  {
   "cell_type": "code",
   "execution_count": 22,
   "metadata": {},
   "outputs": [],
   "source": [
    "#bot settings\n",
    "TOKEN = \"6285394546:AAGn-Z-iwI-jY6RPguUdyBpt16JXGq-tByo\"\n",
    "chat_id = \"223987710\"\n",
    "\n",
    "#flat research settings\n",
    "regione = \"sardegna\"\n",
    "provincia = \"cagliari\"\n",
    "città = \"cagliari\""
   ]
  },
  {
   "cell_type": "code",
   "execution_count": 23,
   "metadata": {},
   "outputs": [],
   "source": [
    "url_immobiliare = f\"https://www.immobiliare.it/affitto-case/{città}/\"\n",
    "\n",
    "url_subito = f\"https://www.subito.it/annunci-{regione}/affitto/appartamenti/{provincia}/{città}/\"\n",
    "\n",
    "url_idealista = f\"https://www.idealista.it/affitto-case/{provincia}-{città}/\""
   ]
  },
  {
   "attachments": {},
   "cell_type": "markdown",
   "metadata": {},
   "source": [
    "# Setting Telegram BOT"
   ]
  },
  {
   "cell_type": "code",
   "execution_count": 24,
   "metadata": {},
   "outputs": [
    {
     "data": {
      "text/plain": [
       "{'ok': True,\n",
       " 'result': {'message_id': 16,\n",
       "  'from': {'id': 6285394546,\n",
       "   'is_bot': True,\n",
       "   'first_name': 'WebScraperAppartamenti',\n",
       "   'username': 'FlatScraperBot'},\n",
       "  'chat': {'id': 223987710, 'first_name': 'azoto', 'type': 'private'},\n",
       "  'date': 1685701308,\n",
       "  'text': 'Starting flat search...'}}"
      ]
     },
     "execution_count": 24,
     "metadata": {},
     "output_type": "execute_result"
    }
   ],
   "source": [
    "#initial message creation \n",
    "starting_text = f\"\"\"Creazione di una ricerca automatizzata per appartamenti\n",
    "           --> regione {regione.capitalize()}, \n",
    "           --> provincia di {provincia.capitalize()}, \n",
    "           --> città di {città.capitalize()}\"\"\"\n",
    "\n",
    "#create starting message\n",
    "create_message(TOKEN, chat_id, starting_text)\n",
    "create_message(TOKEN, chat_id, \"Starting flat search...\")"
   ]
  },
  {
   "attachments": {},
   "cell_type": "markdown",
   "metadata": {},
   "source": [
    "# Immobiliare"
   ]
  },
  {
   "cell_type": "code",
   "execution_count": 25,
   "metadata": {},
   "outputs": [
    {
     "name": "stdout",
     "output_type": "stream",
     "text": [
      "Scraping: run 2 from Immobiliare.it ...\n",
      "Scraping: run 3 from Immobiliare.it ...\n",
      "\n",
      "-->DEBUG ERROR<--\n",
      "404 Client Error: Not Found for url: https://www.immobiliare.it/affitto-case/cagliari/?pag=3\n",
      "\n",
      "\n",
      "------------------------------------------------------------\n",
      "Avaiable pages ended: stopping...\n",
      "------------------------------------------------------------\n"
     ]
    },
    {
     "data": {
      "text/plain": [
       "{'ok': True,\n",
       " 'result': {'message_id': 17,\n",
       "  'from': {'id': 6285394546,\n",
       "   'is_bot': True,\n",
       "   'first_name': 'WebScraperAppartamenti',\n",
       "   'username': 'FlatScraperBot'},\n",
       "  'chat': {'id': 223987710, 'first_name': 'azoto', 'type': 'private'},\n",
       "  'date': 1685701327,\n",
       "  'text': 'Numero di appartamenti trovati su Immobiliare.it: 41',\n",
       "  'entities': [{'offset': 34, 'length': 14, 'type': 'url'}]}}"
      ]
     },
     "execution_count": 25,
     "metadata": {},
     "output_type": "execute_result"
    }
   ],
   "source": [
    "df_to_concat = [df_maker_immobiliare(url_immobiliare)]\n",
    "for i in range(2,100):\n",
    "    print(f\"Scraping: run {i} from Immobiliare.it ...\")\n",
    "    df_temp = df_maker_immobiliare(next_page_immobiliare(i, url_immobiliare))\n",
    "    df_to_concat.append(df_temp)\n",
    "    if df_temp is None:\n",
    "        print(\"\\n\")\n",
    "        print(\"-\"*60)\n",
    "        print(\"Avaiable pages ended: stopping...\")\n",
    "        print(\"-\"*60)\n",
    "        break\n",
    "immobiliare_results = pd.concat(df_to_concat)\n",
    "n_immobiliare = immobiliare_results.shape[0]\n",
    "\n",
    "create_message(TOKEN, chat_id, f\"Numero di appartamenti trovati su Immobiliare.it: {n_immobiliare}\")"
   ]
  },
  {
   "attachments": {},
   "cell_type": "markdown",
   "metadata": {},
   "source": [
    "# Subito.it"
   ]
  },
  {
   "cell_type": "code",
   "execution_count": 26,
   "metadata": {},
   "outputs": [
    {
     "name": "stdout",
     "output_type": "stream",
     "text": [
      "Scraping: run 2 from Subito.it ...\n",
      "Scraping: run 3 from Subito.it ...\n",
      "Scraping: run 4 from Subito.it ...\n",
      "Scraping: run 5 from Subito.it ...\n",
      "Scraping: run 6 from Subito.it ...\n",
      "Scraping: run 7 from Subito.it ...\n"
     ]
    },
    {
     "data": {
      "text/plain": [
       "{'ok': True,\n",
       " 'result': {'message_id': 18,\n",
       "  'from': {'id': 6285394546,\n",
       "   'is_bot': True,\n",
       "   'first_name': 'WebScraperAppartamenti',\n",
       "   'username': 'FlatScraperBot'},\n",
       "  'chat': {'id': 223987710, 'first_name': 'azoto', 'type': 'private'},\n",
       "  'date': 1685701587,\n",
       "  'text': 'Numero di appartamenti trovati su Subito.it: 172',\n",
       "  'entities': [{'offset': 34, 'length': 9, 'type': 'url'}]}}"
      ]
     },
     "execution_count": 26,
     "metadata": {},
     "output_type": "execute_result"
    }
   ],
   "source": [
    "#print(\"Scraping: run 1 from Subito.it ...\")\n",
    "df_to_concat = [df_maker_subito(url_subito)]\n",
    "for i in range(2,100):\n",
    "    print(f\"Scraping: run {i} from Subito.it ...\")\n",
    "    df_temp = df_maker_subito(next_page_subito(i, url_subito))\n",
    "    df_to_concat.append(df_temp)\n",
    "    if df_temp.shape[0] == 0:\n",
    "        break\n",
    "#print(\"\\n\")\n",
    "#print(\"-\"*60)\n",
    "#print(\"Avaiable pages ended: stopping...\")\n",
    "#print(\"-\"*60)\n",
    "subito_results = pd.concat(df_to_concat)\n",
    "n_subito = subito_results.shape[0]\n",
    "\n",
    "create_message(TOKEN, chat_id, f\"Numero di appartamenti trovati su Subito.it: {n_subito}\")"
   ]
  },
  {
   "cell_type": "code",
   "execution_count": 27,
   "metadata": {},
   "outputs": [],
   "source": [
    "tot_apt = n_subito + n_immobiliare\n",
    "\n",
    "create_message(TOKEN, chat_id, f\"Totale appartamenti trovati: {tot_apt}\")\n",
    "\n",
    "final_results = pd.concat([subito_results, immobiliare_results])"
   ]
  },
  {
   "cell_type": "code",
   "execution_count": 44,
   "metadata": {},
   "outputs": [],
   "source": [
    "#leggo gli appartamenti trovati nel DB\n",
    "historic_data = pd.read_excel(\"DB.xlsx\", \"Sheet1\")\n",
    "link_storico = historic_data.Link\n",
    "\n",
    "#verifico se tra quelli nuovi trovati ce ne siano di mai visti nel DB\n",
    "new_flats_links = list(set(final_results.Link)-set(link_storico))\n",
    "\n",
    "if len(new_flats_links)>0:\n",
    "    #se trovo link mai visti li seleziono dai risultati appena trovati\n",
    "    new_records_to_add_to_DB = final_results.set_index(\"Link\").loc[new_flats_links].reset_index()\n",
    "    \n",
    "    #mi creo un nuovo db combinato tra quelli vecchi e quelli nuovi\n",
    "    new_data = pd.concat([historic_data, new_records_to_add_to_DB])\n",
    "\n",
    "    #sovrascrivo il file\n",
    "    new_data.to_excel(\"DB.xlsx\")\n",
    "    create_message(TOKEN, chat_id, f\"Trovati {len(new_records_to_add_to_DB)} nuovi appartamenti\")\n",
    "\n",
    "    #mi scrivo i nuovi appartamenti\n",
    "    for i in range(len(new_records_to_add_to_DB)):\n",
    "        create_message(TOKEN, chat_id, new_records_to_add_to_DB.iloc[i,:])\n",
    "else:\n",
    "    create_message(TOKEN, chat_id, \"Nessun nuovo appartamento trovato\")"
   ]
  }
 ],
 "metadata": {
  "kernelspec": {
   "display_name": "EnvRentalsScraping",
   "language": "python",
   "name": "python3"
  },
  "language_info": {
   "codemirror_mode": {
    "name": "ipython",
    "version": 3
   },
   "file_extension": ".py",
   "mimetype": "text/x-python",
   "name": "python",
   "nbconvert_exporter": "python",
   "pygments_lexer": "ipython3",
   "version": "3.10.11"
  },
  "orig_nbformat": 4
 },
 "nbformat": 4,
 "nbformat_minor": 2
}
