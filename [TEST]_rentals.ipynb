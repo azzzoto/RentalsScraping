{
 "cells": [
  {
   "cell_type": "code",
   "execution_count": 2,
   "metadata": {},
   "outputs": [],
   "source": [
    "import numpy as np\n",
    "import matplotlib.pyplot as plt\n",
    "from tqdm import tqdm\n",
    "from datetime import datetime\n",
    "import pandas as pd\n",
    "\n",
    "from src.subito.scraper import df_maker_subito, next_page_subito\n",
    "from src.immobiliare.scraper import df_maker_immobiliare, next_page_immobiliare\n",
    "#from idealista_scraper import next_page_idealista"
   ]
  },
  {
   "attachments": {},
   "cell_type": "markdown",
   "metadata": {},
   "source": [
    "# City Settings - Affitti"
   ]
  },
  {
   "cell_type": "code",
   "execution_count": 8,
   "metadata": {},
   "outputs": [],
   "source": [
    "regione = \"sardegna\"\n",
    "provincia = \"cagliari\"\n",
    "città = \"cagliari\""
   ]
  },
  {
   "cell_type": "code",
   "execution_count": 9,
   "metadata": {},
   "outputs": [],
   "source": [
    "url_immobiliare = f\"https://www.immobiliare.it/affitto-case/{città}/\"\n",
    "\n",
    "url_subito = f\"https://www.subito.it/annunci-{regione}/affitto/appartamenti/{provincia}/{città}/\"\n",
    "\n",
    "url_idealista = f\"https://www.idealista.it/affitto-case/{provincia}-{città}/\""
   ]
  },
  {
   "attachments": {},
   "cell_type": "markdown",
   "metadata": {},
   "source": [
    "# Immobiliare.it"
   ]
  },
  {
   "cell_type": "code",
   "execution_count": 10,
   "metadata": {},
   "outputs": [
    {
     "name": "stdout",
     "output_type": "stream",
     "text": [
      "Scraping: run 2 from Immobiliare.it ...\n",
      "Scraping: run 3 from Immobiliare.it ...\n",
      "\n",
      "-->DEBUG ERROR<--\n",
      "404 Client Error: Not Found for url: https://www.immobiliare.it/affitto-case/cagliari/?pag=3\n",
      "\n",
      "\n",
      "------------------------------------------------------------\n",
      "Avaiable pages ended: stopping...\n",
      "------------------------------------------------------------\n",
      "\n",
      "\n",
      "Numero di appartamenti trovati su Immobiliare.it: 36\n"
     ]
    }
   ],
   "source": [
    "df_to_concat = [df_maker_immobiliare(url_immobiliare)]\n",
    "for i in range(2,100):\n",
    "    print(f\"Scraping: run {i} from Immobiliare.it ...\")\n",
    "    df_temp = df_maker_immobiliare(next_page_immobiliare(i, url_immobiliare))\n",
    "    df_to_concat.append(df_temp)\n",
    "    if df_temp is None:\n",
    "        print(\"\\n\")\n",
    "        print(\"-\"*60)\n",
    "        print(\"Avaiable pages ended: stopping...\")\n",
    "        print(\"-\"*60)\n",
    "        break\n",
    "immobiliare_results = pd.concat(df_to_concat)\n",
    "n_immobiliare = immobiliare_results.shape[0]\n",
    "\n",
    "print(\"\\n\")\n",
    "print(f\"Numero di appartamenti trovati su Immobiliare.it: {n_immobiliare}\")"
   ]
  },
  {
   "attachments": {},
   "cell_type": "markdown",
   "metadata": {},
   "source": [
    "# Idealista"
   ]
  },
  {
   "cell_type": "code",
   "execution_count": 11,
   "metadata": {},
   "outputs": [],
   "source": [
    "BASE_HEADERS = {\n",
    "    \"user-agent\": \"Mozilla/5.0 (Windows NT 10.0; Win64; x64) AppleWebKit/537.36 (KHTML, like Gecko) Chrome/96.0.4664.110 Safari/537.36\",\n",
    "    \"accept\": \"text/html,application/xhtml+xml,application/xml;q=0.9,image/webp,image/apng,*/*;q=0.8\",\n",
    "    \"accept-language\": \"en-US;en;q=0.9\",\n",
    "    \"accept-encoding\": \"gzip, deflate, br\",\n",
    "}"
   ]
  },
  {
   "attachments": {},
   "cell_type": "markdown",
   "metadata": {},
   "source": [
    "# Subito.it"
   ]
  },
  {
   "cell_type": "code",
   "execution_count": 12,
   "metadata": {},
   "outputs": [
    {
     "name": "stdout",
     "output_type": "stream",
     "text": [
      "Scraping: run 1 from Subito.it ...\n",
      "Scraping: run 2 from Subito.it ...\n",
      "Scraping: run 3 from Subito.it ...\n",
      "Scraping: run 4 from Subito.it ...\n",
      "Scraping: run 5 from Subito.it ...\n",
      "Scraping: run 6 from Subito.it ...\n",
      "Scraping: run 7 from Subito.it ...\n",
      "\n",
      "\n",
      "------------------------------------------------------------\n",
      "Avaiable pages ended: stopping...\n",
      "------------------------------------------------------------\n",
      "\n",
      "\n",
      "Numero di appartamenti trovati su Subito.it: 152\n"
     ]
    }
   ],
   "source": [
    "print(\"Scraping: run 1 from Subito.it ...\")\n",
    "df_to_concat = [df_maker_subito(url_subito)]\n",
    "for i in range(2,100):\n",
    "    print(f\"Scraping: run {i} from Subito.it ...\")\n",
    "    df_temp = df_maker_subito(next_page_subito(i, url_subito))\n",
    "    df_to_concat.append(df_temp)\n",
    "    if df_temp.shape[0] == 0:\n",
    "        break\n",
    "print(\"\\n\")\n",
    "print(\"-\"*60)\n",
    "print(\"Avaiable pages ended: stopping...\")\n",
    "print(\"-\"*60)\n",
    "subito_results = pd.concat(df_to_concat)\n",
    "n_subito = subito_results.shape[0]\n",
    "\n",
    "print(\"\\n\")\n",
    "print(f\"Numero di appartamenti trovati su Subito.it: {n_subito}\")"
   ]
  },
  {
   "attachments": {},
   "cell_type": "markdown",
   "metadata": {},
   "source": [
    "# Results"
   ]
  },
  {
   "cell_type": "code",
   "execution_count": 13,
   "metadata": {},
   "outputs": [
    {
     "name": "stdout",
     "output_type": "stream",
     "text": [
      "------------------------------------------------------------\n",
      "Totale appartamenti trovati: 188\n",
      "------------------------------------------------------------\n",
      "\n",
      "\n",
      "Creo Output...\n"
     ]
    }
   ],
   "source": [
    "tot_apt = n_subito + n_immobiliare\n",
    "\n",
    "print(\"-\"*60)\n",
    "print(f\"Totale appartamenti trovati: {tot_apt}\")\n",
    "print(\"-\"*60)\n",
    "\n",
    "print(\"\\n\")\n",
    "print(\"Creo Output...\")\n",
    "final_results = pd.concat([subito_results, immobiliare_results])\n"
   ]
  },
  {
   "cell_type": "code",
   "execution_count": 16,
   "metadata": {},
   "outputs": [],
   "source": [
    "date = str(datetime.today()).split(\" \")[0]\n",
    "final_results.to_excel(f\"results_{date}.xlsx\")"
   ]
  },
  {
   "attachments": {},
   "cell_type": "markdown",
   "metadata": {},
   "source": [
    "## Data sperimentation"
   ]
  },
  {
   "cell_type": "code",
   "execution_count": null,
   "metadata": {},
   "outputs": [],
   "source": [
    "#old_data=pd.read_excel(\"1602.xlsx\")\n",
    "#lista = list(set(subito_results.Link) - set(old_data.Link))\n",
    "#import webbrowser\n",
    "#for item in lista:\n",
    "#    webbrowser.open_new(item.split(\"//\")[1])"
   ]
  },
  {
   "cell_type": "code",
   "execution_count": 20,
   "metadata": {},
   "outputs": [],
   "source": [
    "test = list(final_results.iloc[0,:])"
   ]
  },
  {
   "cell_type": "code",
   "execution_count": 28,
   "metadata": {},
   "outputs": [
    {
     "data": {
      "text/plain": [
       "['Grazioso trivano tra mare e città',\n",
       " '0',\n",
       " 'https://www.subito.it/appartamenti/grazioso-trivano-tra-mare-e-citta-cagliari-485571861.htm',\n",
       " '3 apr alle 09:44']"
      ]
     },
     "execution_count": 28,
     "metadata": {},
     "output_type": "execute_result"
    }
   ],
   "source": [
    "test"
   ]
  },
  {
   "attachments": {},
   "cell_type": "markdown",
   "metadata": {},
   "source": [
    "# Test Telegram"
   ]
  },
  {
   "cell_type": "code",
   "execution_count": 29,
   "metadata": {},
   "outputs": [
    {
     "name": "stdout",
     "output_type": "stream",
     "text": [
      "{'ok': True, 'result': {'message_id': 5, 'from': {'id': 6285394546, 'is_bot': True, 'first_name': 'WebScraperAppartamenti', 'username': 'FlatScraperBot'}, 'chat': {'id': 223987710, 'first_name': 'azoto', 'type': 'private'}, 'date': 1681119843, 'text': \"['Grazioso trivano tra mare e città', '0', 'https://www.subito.it/appartamenti/grazioso-trivano-tra-mare-e-citta-cagliari-485571861.htm', '3 apr alle 09:44']\", 'entities': [{'offset': 44, 'length': 91, 'type': 'url'}]}}\n"
     ]
    }
   ],
   "source": [
    "import requests\n",
    "TOKEN = \"6285394546:AAGn-Z-iwI-jY6RPguUdyBpt16JXGq-tByo\"\n",
    "chat_id = \"223987710\"\n",
    "\n",
    "id_francesca = \"1667216448\"\n",
    "#message = \"hello from your telegram bot\"\n",
    "message = test\n",
    "url = f\"https://api.telegram.org/bot{TOKEN}/sendMessage?chat_id={chat_id}&text={message}\"\n",
    "print(requests.get(url).json()) # this sends the message"
   ]
  },
  {
   "cell_type": "code",
   "execution_count": null,
   "metadata": {},
   "outputs": [],
   "source": [
    "https://api.telegram.org/bot6285394546:AAGn-Z-iwI-jY6RPguUdyBpt16JXGq-tByo/getUpdates"
   ]
  },
  {
   "cell_type": "code",
   "execution_count": null,
   "metadata": {},
   "outputs": [],
   "source": [
    "{ricerca1: {regione: \"regione\",\n",
    "            provincia: \"provincia\",\n",
    "            città: \"città\", }}\n",
    "\n",
    " "
   ]
  },
  {
   "cell_type": "code",
   "execution_count": 2,
   "metadata": {},
   "outputs": [],
   "source": [
    "from telegram.ext import Updater, CommandHandler, MessageHandler"
   ]
  },
  {
   "cell_type": "code",
   "execution_count": 4,
   "metadata": {},
   "outputs": [
    {
     "ename": "AttributeError",
     "evalue": "'Updater' object has no attribute 'dispatcher'",
     "output_type": "error",
     "traceback": [
      "\u001b[1;31m---------------------------------------------------------------------------\u001b[0m",
      "\u001b[1;31mAttributeError\u001b[0m                            Traceback (most recent call last)",
      "Cell \u001b[1;32mIn[4], line 29\u001b[0m\n\u001b[0;32m     26\u001b[0m     updater\u001b[39m.\u001b[39midle()\n\u001b[0;32m     28\u001b[0m \u001b[39mif\u001b[39;00m \u001b[39m__name__\u001b[39m \u001b[39m==\u001b[39m \u001b[39m'\u001b[39m\u001b[39m__main__\u001b[39m\u001b[39m'\u001b[39m:\n\u001b[1;32m---> 29\u001b[0m     main()\n",
      "Cell \u001b[1;32mIn[4], line 20\u001b[0m, in \u001b[0;36mmain\u001b[1;34m()\u001b[0m\n\u001b[0;32m     17\u001b[0m updater \u001b[39m=\u001b[39m Updater(\u001b[39m\"\u001b[39m\u001b[39m6285394546:AAGn-Z-iwI-jY6RPguUdyBpt16JXGq-tByo\u001b[39m\u001b[39m\"\u001b[39m, update_queue\u001b[39m=\u001b[39m\u001b[39mNone\u001b[39;00m)\n\u001b[0;32m     19\u001b[0m \u001b[39m# Aggiungi un gestore per il comando \"/start\"\u001b[39;00m\n\u001b[1;32m---> 20\u001b[0m updater\u001b[39m.\u001b[39;49mdispatcher\u001b[39m.\u001b[39madd_handler(CommandHandler(\u001b[39m\"\u001b[39m\u001b[39mstart\u001b[39m\u001b[39m\"\u001b[39m, start_command))\n\u001b[0;32m     22\u001b[0m \u001b[39m# Avvia il bot\u001b[39;00m\n\u001b[0;32m     23\u001b[0m updater\u001b[39m.\u001b[39mstart_polling()\n",
      "\u001b[1;31mAttributeError\u001b[0m: 'Updater' object has no attribute 'dispatcher'"
     ]
    }
   ],
   "source": [
    "# Funzione chiamata quando viene ricevuto il comando \"/start\"\n",
    "def start_command(update, context):\n",
    "    chat_id = update.message.chat_id\n",
    "    # Salva la chat ID nel tuo database o in un file\n",
    "    save_chat_id(chat_id)\n",
    "    # Puoi anche inviare un messaggio di benvenuto all'utente\n",
    "    context.bot.send_message(chat_id=chat_id, text=\"Benvenuto! Grazie per aver avviato il bot.\")\n",
    "\n",
    "def save_chat_id(chat_id):\n",
    "    # Salva la chat ID nel tuo database o in un file\n",
    "    # Ad esempio, puoi utilizzare un'operazione di scrittura su file\n",
    "    with open(\"chat_ids.txt\", \"a\") as file:\n",
    "        file.write(str(chat_id) + \"\\n\")\n",
    "\n",
    "def main():\n",
    "    # Inizializza il tuo bot\n",
    "    updater = Updater(\"6285394546:AAGn-Z-iwI-jY6RPguUdyBpt16JXGq-tByo\", update_queue=None)\n",
    "\n",
    "    # Aggiungi un gestore per il comando \"/start\"\n",
    "    updater.dispatcher.add_handler(CommandHandler(\"start\", start_command))\n",
    "\n",
    "    # Avvia il bot\n",
    "    updater.start_polling()\n",
    "\n",
    "    # Mantieni il bot in esecuzione fino a quando non viene interrotto manualmente\n",
    "    updater.idle()\n",
    "\n",
    "if __name__ == '__main__':\n",
    "    main()"
   ]
  },
  {
   "cell_type": "code",
   "execution_count": null,
   "metadata": {},
   "outputs": [],
   "source": []
  }
 ],
 "metadata": {
  "kernelspec": {
   "display_name": "RentalsEnv",
   "language": "python",
   "name": "python3"
  },
  "language_info": {
   "codemirror_mode": {
    "name": "ipython",
    "version": 3
   },
   "file_extension": ".py",
   "mimetype": "text/x-python",
   "name": "python",
   "nbconvert_exporter": "python",
   "pygments_lexer": "ipython3",
   "version": "3.10.11"
  },
  "orig_nbformat": 4,
  "vscode": {
   "interpreter": {
    "hash": "d0f937cc88e2b281afb6583a940b77a2f8d13e323a72f235cff9a3afab786a6d"
   }
  }
 },
 "nbformat": 4,
 "nbformat_minor": 2
}
